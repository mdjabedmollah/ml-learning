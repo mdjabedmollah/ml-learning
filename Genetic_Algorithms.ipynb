{
  "nbformat": 4,
  "nbformat_minor": 0,
  "metadata": {
    "colab": {
      "provenance": [],
      "authorship_tag": "ABX9TyOz6wKtAUejxgGXB5XX2riB",
      "include_colab_link": true
    },
    "kernelspec": {
      "name": "python3",
      "display_name": "Python 3"
    },
    "language_info": {
      "name": "python"
    }
  },
  "cells": [
    {
      "cell_type": "markdown",
      "metadata": {
        "id": "view-in-github",
        "colab_type": "text"
      },
      "source": [
        "<a href=\"https://colab.research.google.com/github/mdjabedmollah/ml-learning/blob/main/Genetic_Algorithms.ipynb\" target=\"_parent\"><img src=\"https://colab.research.google.com/assets/colab-badge.svg\" alt=\"Open In Colab\"/></a>"
      ]
    },
    {
      "cell_type": "code",
      "execution_count": 1,
      "metadata": {
        "colab": {
          "base_uri": "https://localhost:8080/"
        },
        "id": "5-5lzr95JPWa",
        "outputId": "52203d8e-1df1-403b-dafc-ed382e4ac951"
      },
      "outputs": [
        {
          "output_type": "stream",
          "name": "stdout",
          "text": [
            "Gen  0: Best = 11101 -> x=29, f(x)=841\n",
            "Gen  1: Best = 11101 -> x=29, f(x)=841\n",
            "Gen  2: Best = 11111 -> x=31, f(x)=961\n",
            "Gen  3: Best = 11110 -> x=30, f(x)=900\n",
            "Gen  4: Best = 11100 -> x=28, f(x)=784\n",
            "Gen  5: Best = 11100 -> x=28, f(x)=784\n",
            "Gen  6: Best = 11110 -> x=30, f(x)=900\n",
            "Gen  7: Best = 11111 -> x=31, f(x)=961\n",
            "Gen  8: Best = 11111 -> x=31, f(x)=961\n",
            "Gen  9: Best = 11111 -> x=31, f(x)=961\n",
            "Gen 10: Best = 11111 -> x=31, f(x)=961\n",
            "Gen 11: Best = 11111 -> x=31, f(x)=961\n",
            "Gen 12: Best = 11111 -> x=31, f(x)=961\n",
            "Gen 13: Best = 11111 -> x=31, f(x)=961\n",
            "Gen 14: Best = 11111 -> x=31, f(x)=961\n",
            "Gen 15: Best = 11111 -> x=31, f(x)=961\n",
            "Gen 16: Best = 11111 -> x=31, f(x)=961\n",
            "Gen 17: Best = 11111 -> x=31, f(x)=961\n",
            "Gen 18: Best = 11111 -> x=31, f(x)=961\n",
            "Gen 19: Best = 11111 -> x=31, f(x)=961\n"
          ]
        }
      ],
      "source": [
        "import random\n",
        "\n",
        "POP_SIZE = 8\n",
        "CHROM_LENGTH = 5\n",
        "GENS = 20\n",
        "MUT_RATE = 0.1\n",
        "\n",
        "\n",
        "def fitness(x):\n",
        "    \"\"\"Fitness function: f(x) = x^2\"\"\"\n",
        "    return x**2\n",
        "\n",
        "def decode(chrom):\n",
        "    \"\"\"Binary string -> integer\"\"\"\n",
        "    return int(chrom, 2)\n",
        "\n",
        "def selection(pop):\n",
        "    \"\"\"Roulette-wheel selection\"\"\"\n",
        "    total_fit = sum(fitness(decode(c)) for c in pop)\n",
        "    pick = random.uniform(0, total_fit)\n",
        "    current = 0\n",
        "    for c in pop:\n",
        "        current += fitness(decode(c))\n",
        "        if current > pick:\n",
        "            return c\n",
        "\n",
        "def crossover(p1, p2):\n",
        "    \"\"\"Single-point crossover\"\"\"\n",
        "    if random.random() < 0.7:\n",
        "        point = random.randint(1, CHROM_LENGTH - 1)\n",
        "        return p1[:point] + p2[point:], p2[:point] + p1[point:]\n",
        "    return p1, p2\n",
        "\n",
        "def mutate(chrom):\n",
        "    \"\"\"Bit-flip mutation\"\"\"\n",
        "    new_chrom = ''\n",
        "    for bit in chrom:\n",
        "        if random.random() < MUT_RATE:\n",
        "            new_chrom += '0' if bit == '1' else '1'\n",
        "        else:\n",
        "            new_chrom += bit\n",
        "    return new_chrom\n",
        "\n",
        "\n",
        "population = [''.join(random.choice('01') for _ in range(CHROM_LENGTH)) for _ in range(POP_SIZE)]\n",
        "\n",
        "for gen in range(GENS):\n",
        "\n",
        "    fits = [fitness(decode(c)) for c in population]\n",
        "    best = population[fits.index(max(fits))]\n",
        "    print(f\"Gen {gen:2d}: Best = {best} -> x={decode(best):2d}, f(x)={max(fits):3d}\")\n",
        "\n",
        "\n",
        "    new_pop = []\n",
        "    while len(new_pop) < POP_SIZE:\n",
        "        p1 = selection(population)\n",
        "        p2 = selection(population)\n",
        "        c1, c2 = crossover(p1, p2)\n",
        "        new_pop += [mutate(c1), mutate(c2)]\n",
        "    population = new_pop\n"
      ]
    }
  ]
}