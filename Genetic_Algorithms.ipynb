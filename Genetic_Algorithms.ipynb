{
  "nbformat": 4,
  "nbformat_minor": 0,
  "metadata": {
    "colab": {
      "provenance": [],
      "authorship_tag": "ABX9TyME5O9Zlm9LfP6SZqsgeKp+",
      "include_colab_link": true
    },
    "kernelspec": {
      "name": "python3",
      "display_name": "Python 3"
    },
    "language_info": {
      "name": "python"
    }
  },
  "cells": [
    {
      "cell_type": "markdown",
      "metadata": {
        "id": "view-in-github",
        "colab_type": "text"
      },
      "source": [
        "<a href=\"https://colab.research.google.com/github/mdjabedmollah/ml-learning/blob/main/Genetic_Algorithms.ipynb\" target=\"_parent\"><img src=\"https://colab.research.google.com/assets/colab-badge.svg\" alt=\"Open In Colab\"/></a>"
      ]
    },
    {
      "cell_type": "code",
      "execution_count": 2,
      "metadata": {
        "colab": {
          "base_uri": "https://localhost:8080/"
        },
        "id": "5-5lzr95JPWa",
        "outputId": "f8c054ea-ac9b-4e33-d884-ecfd095ffc1d"
      },
      "outputs": [
        {
          "output_type": "stream",
          "name": "stdout",
          "text": [
            "Crossover point: 5\n",
            "Father : 110010\n",
            "Mother : 101101\n",
            "Child1 : 110011\n",
            "Child2 : 101100\n",
            "Mutated Child1: 100011\n"
          ]
        }
      ],
      "source": [
        "import random\n",
        "\n",
        "\n",
        "father = \"110010\"\n",
        "mother = \"101101\"\n",
        "\n",
        "\n",
        "point = random.randint(1, len(father)-1)\n",
        "print(f\"Crossover point: {point}\")\n",
        "\n",
        "child1 = father[:point] + mother[point:]\n",
        "child2 = mother[:point] + father[point:]\n",
        "\n",
        "print(\"Father :\", father)\n",
        "print(\"Mother :\", mother)\n",
        "print(\"Child1 :\", child1)\n",
        "print(\"Child2 :\", child2)\n",
        "\n",
        "\n",
        "child1_list = list(child1)\n",
        "mut_point = random.randint(0, len(child1)-1)\n",
        "child1_list[mut_point] = '0' if child1_list[mut_point] == '1' else '1'\n",
        "child1_mutated = ''.join(child1_list)\n",
        "\n",
        "print(\"Mutated Child1:\", child1_mutated)\n"
      ]
    }
  ]
}