{
  "nbformat": 4,
  "nbformat_minor": 0,
  "metadata": {
    "colab": {
      "provenance": [],
      "authorship_tag": "ABX9TyPUHMq+6WBIu0Z/wmheRbaT",
      "include_colab_link": true
    },
    "kernelspec": {
      "name": "python3",
      "display_name": "Python 3"
    },
    "language_info": {
      "name": "python"
    }
  },
  "cells": [
    {
      "cell_type": "markdown",
      "metadata": {
        "id": "view-in-github",
        "colab_type": "text"
      },
      "source": [
        "<a href=\"https://colab.research.google.com/github/mdjabedmollah/ml-learning/blob/main/Fuzzy_Logic.ipynb\" target=\"_parent\"><img src=\"https://colab.research.google.com/assets/colab-badge.svg\" alt=\"Open In Colab\"/></a>"
      ]
    },
    {
      "cell_type": "code",
      "execution_count": 1,
      "metadata": {
        "colab": {
          "base_uri": "https://localhost:8080/"
        },
        "id": "3JfKh38nIOyb",
        "outputId": "bb24dfe7-b389-4316-b143-f4de2ac36de0"
      },
      "outputs": [
        {
          "output_type": "stream",
          "name": "stdout",
          "text": [
            "   Temperature   FanSpeed\n",
            "0            5  17.528057\n",
            "1           12  30.221920\n",
            "2           18  46.374124\n",
            "3           22  50.000000\n",
            "4           27  57.974460\n",
            "5           33  80.832430\n",
            "6           38  83.041955\n"
          ]
        }
      ],
      "source": [
        "import numpy as np\n",
        "import pandas as pd\n",
        "\n",
        "\n",
        "def tri(x, a, b, c):\n",
        "    x = np.asarray(x)\n",
        "    return np.maximum(np.minimum((x - a) / (b - a + 1e-9), (c - x) / (c - b + 1e-9)), 0.0)\n",
        "\n",
        "\n",
        "def cold(x):   return tri(x, 0, 0, 20)\n",
        "def warm(x):   return tri(x, 10, 20, 30)\n",
        "def hot(x):    return tri(x, 25, 40, 40)\n",
        "\n",
        "\n",
        "def low_speed(y):   return tri(y, 0, 0, 50)\n",
        "def med_speed(y):   return tri(y, 25, 50, 75)\n",
        "def high_speed(y):  return tri(y, 50, 100, 100)\n",
        "\n",
        "\n",
        "def fuzzy_inference(temp_value, out_resolution=1000):\n",
        "    mu_cold = cold(temp_value)\n",
        "    mu_warm = warm(temp_value)\n",
        "    mu_hot  = hot(temp_value)\n",
        "\n",
        "    y = np.linspace(0, 100, out_resolution)\n",
        "    agg = np.zeros_like(y)\n",
        "\n",
        "\n",
        "    agg = np.maximum(agg, np.minimum(mu_cold, low_speed(y)))\n",
        "    agg = np.maximum(agg, np.minimum(mu_warm, med_speed(y)))\n",
        "    agg = np.maximum(agg, np.minimum(mu_hot,  high_speed(y)))\n",
        "\n",
        "    if agg.sum() == 0:\n",
        "        return 0\n",
        "    centroid = (y * agg).sum() / agg.sum()\n",
        "    return centroid\n",
        "\n",
        "\n",
        "data = {\n",
        "    \"Temperature\": [5, 12, 18, 22, 27, 33, 38],\n",
        "}\n",
        "df = pd.DataFrame(data)\n",
        "\n",
        "df[\"FanSpeed\"] = df[\"Temperature\"].apply(fuzzy_inference)\n",
        "\n",
        "print(df)\n"
      ]
    }
  ]
}