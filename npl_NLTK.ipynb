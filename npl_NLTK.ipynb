{
  "nbformat": 4,
  "nbformat_minor": 0,
  "metadata": {
    "colab": {
      "provenance": [],
      "authorship_tag": "ABX9TyOGmT6MNlMi4cWE25QiVqsN",
      "include_colab_link": true
    },
    "kernelspec": {
      "name": "python3",
      "display_name": "Python 3"
    },
    "language_info": {
      "name": "python"
    }
  },
  "cells": [
    {
      "cell_type": "markdown",
      "metadata": {
        "id": "view-in-github",
        "colab_type": "text"
      },
      "source": [
        "<a href=\"https://colab.research.google.com/github/mdjabedmollah/ml-learning/blob/main/npl_NLTK.ipynb\" target=\"_parent\"><img src=\"https://colab.research.google.com/assets/colab-badge.svg\" alt=\"Open In Colab\"/></a>"
      ]
    },
    {
      "cell_type": "code",
      "execution_count": 4,
      "metadata": {
        "colab": {
          "base_uri": "https://localhost:8080/"
        },
        "id": "UiQ2LqRCTLOL",
        "outputId": "dd9dddf8-d681-477d-b98e-1093ba049e86"
      },
      "outputs": [
        {
          "output_type": "stream",
          "name": "stdout",
          "text": [
            "Tokens:\n",
            "['Natural', 'Language', 'Processing', 'with', 'Python', 'and', 'NLTK', 'is', 'fun', '!', 'OpenAI', \"'s\", 'GPT', 'models', 'are', 'powerful', 'for', 'NLP', 'tasks', '.']\n",
            "\n",
            "Filtered (stopwords removed):\n",
            "['Natural', 'Language', 'Processing', 'Python', 'NLTK', 'fun', '!', 'OpenAI', \"'s\", 'GPT', 'models', 'powerful', 'NLP', 'tasks', '.']\n",
            "\n",
            "Stems:\n",
            "['natur', 'languag', 'process', 'python', 'nltk', 'fun', '!', 'openai', \"'s\", 'gpt', 'model', 'power', 'nlp', 'task', '.']\n",
            "\n",
            "POS tags:\n",
            "[('Natural', 'JJ'), ('Language', 'NNP'), ('Processing', 'NNP'), ('with', 'IN'), ('Python', 'NNP'), ('and', 'CC'), ('NLTK', 'NNP'), ('is', 'VBZ'), ('fun', 'JJ'), ('!', '.'), ('OpenAI', 'NNP'), (\"'s\", 'POS'), ('GPT', 'NNP'), ('models', 'NNS'), ('are', 'VBP'), ('powerful', 'JJ'), ('for', 'IN'), ('NLP', 'NNP'), ('tasks', 'NNS'), ('.', '.')]\n",
            "\n",
            "Named Entities (tree structure):\n",
            "                                                                                   S                                                                                                             \n",
            "     ______________________________________________________________________________|______________________________________________________________________________________________________        \n",
            "    |           |             |           |      |      |      |     |    |        |         |         |        |        |      |    PERSON   ORGANIZATION ORGANIZATION ORGANIZATION ORGANIZATION\n",
            "    |           |             |           |      |      |      |     |    |        |         |         |        |        |      |      |           |            |            |            |       \n",
            "Natural/JJ Language/NNP Processing/NNP with/IN and/CC is/VBZ fun/JJ !/. 's/POS models/NNS are/VBP powerful/JJ for/IN tasks/NNS ./. Python/NNP   NLTK/NNP    OpenAI/NNP    GPT/NNP      NLP/NNP   \n",
            "\n",
            "(S\n",
            "  Natural/JJ\n",
            "  Language/NNP\n",
            "  Processing/NNP\n",
            "  with/IN\n",
            "  (PERSON Python/NNP)\n",
            "  and/CC\n",
            "  (ORGANIZATION NLTK/NNP)\n",
            "  is/VBZ\n",
            "  fun/JJ\n",
            "  !/.\n",
            "  (ORGANIZATION OpenAI/NNP)\n",
            "  's/POS\n",
            "  (ORGANIZATION GPT/NNP)\n",
            "  models/NNS\n",
            "  are/VBP\n",
            "  powerful/JJ\n",
            "  for/IN\n",
            "  (ORGANIZATION NLP/NNP)\n",
            "  tasks/NNS\n",
            "  ./.)\n",
            "\n"
          ]
        }
      ],
      "source": [
        "\"\"\"\n",
        "NLP fundamentals with Python & NLTK (fixed version)\n",
        "- Tokenization\n",
        "- Stopword removal\n",
        "- Stemming\n",
        "- POS tagging\n",
        "- Named Entity Recognition (NER)\n",
        "\"\"\"\n",
        "\n",
        "import nltk\n",
        "from nltk.tokenize import word_tokenize\n",
        "from nltk.corpus import stopwords\n",
        "from nltk.stem import PorterStemmer\n",
        "from nltk import pos_tag, ne_chunk\n",
        "\n",
        "def ensure_resources():\n",
        "    \"\"\"\n",
        "    Downloads all necessary NLTK resources safely.\n",
        "    Handles newer resource names used in NLTK ≥ 3.9.\n",
        "    \"\"\"\n",
        "    resources = [\n",
        "        \"punkt\",\n",
        "        \"punkt_tab\",\n",
        "        \"stopwords\",\n",
        "        \"averaged_perceptron_tagger\",\n",
        "        \"averaged_perceptron_tagger_eng\",\n",
        "        \"maxent_ne_chunker\",\n",
        "        \"maxent_ne_chunker_tab\",\n",
        "        \"words\"\n",
        "    ]\n",
        "    for res in resources:\n",
        "        try:\n",
        "            nltk.download(res, quiet=True)\n",
        "        except:\n",
        "            pass\n",
        "\n",
        "def main():\n",
        "    ensure_resources()\n",
        "\n",
        "    text = \"Natural Language Processing with Python and NLTK is fun! OpenAI's GPT models are powerful for NLP tasks.\"\n",
        "\n",
        "    # 1) Tokenization\n",
        "    tokens = word_tokenize(text)\n",
        "    print(\"Tokens:\")\n",
        "    print(tokens)\n",
        "    print()\n",
        "\n",
        "    # 2) Stopword removal\n",
        "    stop_words = set(stopwords.words(\"english\"))\n",
        "    filtered = [w for w in tokens if w.lower() not in stop_words]\n",
        "    print(\"Filtered (stopwords removed):\")\n",
        "    print(filtered)\n",
        "    print()\n",
        "\n",
        "    # 3) Stemming\n",
        "    ps = PorterStemmer()\n",
        "    stems = [ps.stem(w) for w in filtered]\n",
        "    print(\"Stems:\")\n",
        "    print(stems)\n",
        "    print()\n",
        "\n",
        "    # 4) POS tagging\n",
        "    pos_tags = pos_tag(tokens)\n",
        "    print(\"POS tags:\")\n",
        "    print(pos_tags)\n",
        "    print()\n",
        "\n",
        "    # 5) Named Entity Recognition (NER)\n",
        "    chunks = ne_chunk(pos_tags)\n",
        "    print(\"Named Entities (tree structure):\")\n",
        "    chunks.pretty_print()\n",
        "    print(chunks)\n",
        "    print()\n",
        "\n",
        "if __name__ == \"__main__\":\n",
        "    main()\n"
      ]
    }
  ]
}